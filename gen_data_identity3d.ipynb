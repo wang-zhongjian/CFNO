{
 "cells": [
  {
   "cell_type": "code",
   "execution_count": 1,
   "id": "82a091be-9d79-4a21-959f-dc8ae08d2b17",
   "metadata": {},
   "outputs": [],
   "source": [
    "# Author Zhongjian\n",
    "# Code adapted from HZY's Darcy code\n",
    "# Modified to 3d, Feb 18\n",
    "import numpy as np\n",
    "import scipy.sparse as sp\n",
    "from tqdm import tqdm\n",
    "import sys\n",
    "sys.path.append('./codes/')\n",
    "from utils import Gaussian_random_field_3d\n",
    "\n",
    "##\n",
    "import matplotlib.pyplot as plt\n",
    "from mpl_toolkits.axes_grid1 import make_axes_locatable\n",
    "def plt_2d_compare(*mats):\n",
    "    nmat = len(mats)\n",
    "    fig, axes = plt.subplots(1, nmat)\n",
    "    fig.subplots_adjust(wspace=0.5)\n",
    "    for ia in range(nmat):\n",
    "        ax = axes[ia]\n",
    "        im=ax.imshow(mats[ia])\n",
    "        divider = make_axes_locatable(ax)\n",
    "        cax = divider.append_axes(\"right\", size=\"5%\", pad=\"5%\")\n",
    "        fig.colorbar(im,cax)\n",
    "    plt.show()\n",
    "\n",
    "##\n",
    "def compute_obs_3d(h_3d):\n",
    "    obs_ΔN = 4\n",
    "    return h_3d[2::obs_ΔN, 2::obs_ΔN,2::obs_ΔN].flatten()\n",
    "\n",
    "## Generate Data on server\n",
    "def generate_single(theta,grf):\n",
    "    logk_3d = grf.generate(theta)\n",
    "    obs_noiseless = compute_obs_3d(logk_3d)\n",
    "    return obs_noiseless,logk_3d\n"
   ]
  },
  {
   "cell_type": "code",
   "execution_count": 2,
   "id": "2087d850-19a8-4923-abbb-462447523fef",
   "metadata": {},
   "outputs": [],
   "source": [
    "N_training =10000\n",
    "N_test = 100\n",
    "N_KL = 64 # 6*6*6-1\n",
    "L=1\n",
    "N=21\n",
    "np.random.seed(0)\n",
    "save_path='./data/identity3d'\n",
    "xx = np.linspace(0, L, N,endpoint=True)\n",
    "X,Y,Z= np.meshgrid(xx, xx,xx)\n",
    "grf = Gaussian_random_field_3d(xx, N_KL, d=2.5, tau=5.0, sigma=5**(2.0))\n"
   ]
  },
  {
   "cell_type": "code",
   "execution_count": 3,
   "id": "c42fb0e7-2264-452a-8210-00a315bd5c8f",
   "metadata": {},
   "outputs": [],
   "source": [
    "## Reference field\n",
    "sigma=2e-1\n",
    "theta = np.random.normal(0, 1, N_KL)\n",
    "obs_noiseless,logk_3d = generate_single(theta,grf)\n",
    "obs_pos_X,obs_pos_Y,obs_pos_Z =compute_obs_3d(X),compute_obs_3d(Y),compute_obs_3d(Z)\n",
    "obs_sz= obs_pos_X.shape\n",
    "obs = obs_noiseless +sigma*np.random.normal(0,1,obs_sz)\n",
    "ref = logk_3d\n",
    "\n",
    "ref_pos=np.array([X.flatten(),Y.flatten(),Z.flatten()]).T\n",
    "obs_pos=np.array([obs_pos_X,obs_pos_Y,obs_pos_Z]).T\n",
    "# print(obs_pos.shape)\n",
    "# Y is conditional data\n",
    "CXY=grf.compute_covmat(ref_pos,obs_pos)\n",
    "CXX=grf.compute_covmat(ref_pos,ref_pos)\n",
    "CYY=grf.compute_covmat(obs_pos,obs_pos)\n",
    "CYX=CXY.T\n",
    "mean_sol = CXY@np.linalg.solve(CYY+np.eye(obs_sz[0])*sigma**2,obs)\n",
    "mean_sol2d=mean_sol.reshape(N,N,N)\n",
    "cov_sol = CXX-CXY@np.linalg.solve(CYY+np.eye(obs_sz[0])*sigma**2,CYX)\n",
    "var_sol2d = np.diag(cov_sol).reshape(N,N,N)\n",
    "\n",
    "with open(save_path+'/test.npy', 'wb') as f:\n",
    "    np.save(f, obs)\n",
    "    np.save(f, ref)\n",
    "    np.save(f, mean_sol2d)\n",
    "    np.save(f, var_sol2d)"
   ]
  },
  {
   "cell_type": "code",
   "execution_count": 4,
   "id": "299f6454-34fc-4070-bb8a-74ac4ac7bb92",
   "metadata": {
    "scrolled": true
   },
   "outputs": [
    {
     "data": {
      "image/png": "[encoded data removed]",
      "text/plain": [
       "<Figure size 640x480 with 6 Axes>"
      ]
     },
     "metadata": {},
     "output_type": "display_data"
    }
   ],
   "source": [
    "# Comparision, reference field, bayesian mean, bayesian std\n",
    "plt_2d_compare(ref[N//2,:,:],mean_sol2d[N//2,:,:],np.sqrt(var_sol2d[N//2,:,:]))"
   ]
  },
  {
   "cell_type": "code",
   "execution_count": 5,
   "id": "c1b76b89-a9e1-4404-adcb-d55a083c0770",
   "metadata": {},
   "outputs": [
    {
     "name": "stderr",
     "output_type": "stream",
     "text": [
      "100%|███████████████████████████████████| 10000/10000 [00:03<00:00, 3047.98it/s]\n",
      "100%|███████████████████████████████████████| 100/100 [00:00<00:00, 3268.07it/s]\n"
     ]
    }
   ],
   "source": [
    "# Set 1 \n",
    "\n",
    "obs_noiseless_all = []\n",
    "logk_3d_all = []\n",
    "for i in tqdm(range(N_training)):\n",
    "    theta = np.random.normal(0, 1, N_KL)\n",
    "    obs_noiseless,logk_3d = generate_single(theta,grf)\n",
    "    obs_noiseless_all.append(obs_noiseless)\n",
    "    logk_3d_all.append(logk_3d)\n",
    "logk_3d_all=np.array(logk_3d_all)\n",
    "obs_noiseless_all=np.array(obs_noiseless_all)\n",
    "with open(save_path+'/data_set.npy', 'wb') as f:\n",
    "    np.save(f, logk_3d_all)\n",
    "    np.save(f, obs_noiseless_all)\n",
    "# Set 2     \n",
    "        \n",
    "obs_noiseless_all = []\n",
    "logk_3d_all = []\n",
    "for i in tqdm(range(N_test)):\n",
    "    theta = np.random.normal(0, 1, N_KL)\n",
    "    obs_noiseless,logk_2d = generate_single(theta,grf)\n",
    "    obs_noiseless_all.append(obs_noiseless)\n",
    "    logk_3d_all.append(logk_2d)\n",
    "logk_3d_all=np.array(logk_3d_all)\n",
    "obs_noiseless_all=np.array(obs_noiseless_all)\n",
    "with open(save_path+'/data_set_100.npy', 'wb') as f:\n",
    "    np.save(f, logk_3d_all)\n",
    "    np.save(f, obs_noiseless_all)"
   ]
  }
 ],
 "metadata": {
  "kernelspec": {
   "display_name": "Python 3 (ipykernel)",
   "language": "python",
   "name": "python3"
  },
  "language_info": {
   "codemirror_mode": {
    "name": "ipython",
    "version": 3
   },
   "file_extension": ".py",
   "mimetype": "text/x-python",
   "name": "python",
   "nbconvert_exporter": "python",
   "pygments_lexer": "ipython3",
   "version": "3.11.8"
  }
 },
 "nbformat": 4,
 "nbformat_minor": 5
}
